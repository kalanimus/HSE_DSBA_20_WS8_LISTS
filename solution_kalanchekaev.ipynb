{
 "cells": [
  {
   "cell_type": "markdown",
   "metadata": {
    "id": "KSY1o5J6OU3s"
   },
   "source": [
    "# Workshop 8 Tasks on lists and tuples.."
   ]
  },
  {
   "cell_type": "markdown",
   "metadata": {
    "id": "1GIPY6PFOU3v"
   },
   "source": [
    "**Task 1** Write a Python program to multiplies all the items in a list  \n",
    "**Input**:  \n",
    "2 4 6  \n",
    "  \n",
    "**Output**:  \n",
    "48"
   ]
  },
  {
   "cell_type": "code",
   "execution_count": 1,
   "metadata": {},
   "outputs": [
    {
     "name": "stdout",
     "output_type": "stream",
     "text": [
      "2 4 6\n",
      "48\n"
     ]
    }
   ],
   "source": [
    "a = list(map(int, input().split()))\n",
    "s=1\n",
    "for i in range (len(a)):\n",
    "    s *= a[i]\n",
    "print (s)"
   ]
  },
  {
   "cell_type": "markdown",
   "metadata": {
    "id": "AgzyO6eYOU3x"
   },
   "source": [
    "**Task 2** Check if lists consist of the same elements  \n",
    "**Input**:  \n",
    "1 2 3 3 2  \n",
    "3 1 3 2  \n",
    "  \n",
    "**Output**:  \n",
    "YES"
   ]
  },
  {
   "cell_type": "code",
   "execution_count": 7,
   "metadata": {},
   "outputs": [
    {
     "name": "stdout",
     "output_type": "stream",
     "text": [
      "1 2 3 3 2\n",
      "3 1 3 2\n",
      "YES\n"
     ]
    }
   ],
   "source": [
    "a = list(map(str, input().split()))\n",
    "b = list(map(str, input().split()))\n",
    "a.sort()\n",
    "b.sort()\n",
    "c=[]\n",
    "c.append(a[0])\n",
    "j=0\n",
    "for i in range (len (a)):\n",
    "    if a[i]!=c[j]:\n",
    "        j+=1\n",
    "        c.append (a[i])\n",
    "\n",
    "j = 0\n",
    "for i in range (len (c)):\n",
    "    if b.count (c[i]):\n",
    "        j+=1\n",
    "\n",
    "if j == len(c):\n",
    "    print ('YES')\n",
    "else:\n",
    "    print ('NO')"
   ]
  },
  {
   "cell_type": "markdown",
   "metadata": {
    "id": "z7q_LxGVOU3y"
   },
   "source": [
    "**Task 3** Write a Python program to split a list every Nth element  \n",
    "**Input**:  \n",
    "a b c d e f g h i j k l m n  \n",
    "5  \n",
    "  \n",
    "**Output**:  \n",
    "a d g j m  \n",
    "b e h k n  \n",
    "c f i l"
   ]
  },
  {
   "cell_type": "code",
   "execution_count": 25,
   "metadata": {},
   "outputs": [
    {
     "name": "stdout",
     "output_type": "stream",
     "text": [
      "a b c d e f g h i j k l m n\n",
      "5\n",
      "a b c d e\n",
      "f g h i j\n",
      "k l m n\n"
     ]
    }
   ],
   "source": [
    "a = list(map(str, input().split()))\n",
    "b = int (input())\n",
    "c=0\n",
    "for i in range (b, len (a)+b, b):\n",
    "    print (*a[c:i])\n",
    "    c=i"
   ]
  },
  {
   "cell_type": "markdown",
   "metadata": {
    "id": "VUmdq1vtOU30"
   },
   "source": [
    "a b c d e f g h i j k l m n#### **Task 4** Write a Python program to remove duplicates from a list  \n",
    "**Input**:  \n",
    "10 20 40 10 10 36 20  \n",
    "  \n",
    "**Output**:  \n",
    "10 20 40 36"
   ]
  },
  {
   "cell_type": "code",
   "execution_count": 34,
   "metadata": {},
   "outputs": [
    {
     "name": "stdout",
     "output_type": "stream",
     "text": [
      "10 20 40 10 10 36 20 \n",
      "10 20 36 40\n"
     ]
    }
   ],
   "source": [
    "a = list(map(str, input().split()))\n",
    "a.sort()\n",
    "c=[]\n",
    "c.append(a[0])\n",
    "j=0\n",
    "for i in range (len (a)):\n",
    "    if a[i]!=c[j] and c.count (c[j])<2:\n",
    "        j+=1\n",
    "        c.append (a[i])\n",
    "print (*c)"
   ]
  },
  {
   "cell_type": "markdown",
   "metadata": {
    "id": "k7jwrf2kOU33"
   },
   "source": [
    "***Task 5** Write a Python program to generate all sublists of a list.  \n",
    "**Input**:  \n",
    "1 2 3  \n",
    "  \n",
    "**Output**:  \n",
    "1  \n",
    "2  \n",
    "3  \n",
    "1 2  \n",
    "1 3  \n",
    "2 3  \n",
    "1 2 3"
   ]
  },
  {
   "cell_type": "code",
   "execution_count": 46,
   "metadata": {},
   "outputs": [
    {
     "name": "stdout",
     "output_type": "stream",
     "text": [
      "1 2 3\n",
      "1\n",
      "2\n",
      "3\n",
      "1\n",
      "2\n",
      "3\n"
     ]
    }
   ],
   "source": [
    "a = list(map(int, input().split()))\n",
    "f = 1\n",
    "c=[]\n",
    "while f != len(a):\n",
    "    for i in range (len (a)):\n",
    "        if c.count(a[i]) "
   ]
  },
  {
   "cell_type": "markdown",
   "metadata": {
    "id": "9m3FbuHGOU34"
   },
   "source": [
    "**Task 6** Write a Python program to replace last value of tuples in a list (you don't need to get your list via input() command - just define it in your program):  \n",
    "  \n",
    "Sample list: [(10, 20, 40), (40, 50, 60), (70, 80, 90)]  \n",
    "Expected Output: [(10, 20, 100), (40, 50, 100), (70, 80, 100)]"
   ]
  },
  {
   "cell_type": "code",
   "execution_count": 36,
   "metadata": {},
   "outputs": [
    {
     "name": "stdout",
     "output_type": "stream",
     "text": [
      "[(10, 20, '100'), (40, 50, '100'), (70, 80, '100')]\n"
     ]
    }
   ],
   "source": [
    "a = [(10,20,40), (40, 50,60),(70,80,90)]\n",
    "c=[]\n",
    "for i in range (len(a)):\n",
    "    q,w,e=a[i]\n",
    "    f= ((q,w,\"100\"))\n",
    "    c.append(f)\n",
    "print (c)"
   ]
  },
  {
   "cell_type": "markdown",
   "metadata": {
    "id": "CbvrhxHXOU35"
   },
   "source": [
    "**Task 7** Write a Python program to remove an empty tuple(s) from a list of tuples(you don't need to get your list via input() command - just define it in your program):  \n",
    "  \n",
    "Sample data: [(), (), ('',), ('a', 'b'), ('a', 'b', 'c'), ('d')]  \n",
    "Expected output: [('',), ('a', 'b'), ('a', 'b', 'c'), 'd']"
   ]
  },
  {
   "cell_type": "code",
   "execution_count": 40,
   "metadata": {},
   "outputs": [
    {
     "name": "stdout",
     "output_type": "stream",
     "text": [
      "[('',), ('a', 'b'), ('a', 'b', 'c'), 'd']\n"
     ]
    }
   ],
   "source": [
    "d=[(), (), ('',), ('a', 'b'), ('a', 'b', 'c'), ('d')]\n",
    "q=[]\n",
    "for i in range (len (d)):\n",
    "    if d[i] != ():\n",
    "        q.append (d[i])\n",
    "print (q)\n"
   ]
  },
  {
   "cell_type": "code",
   "execution_count": null,
   "metadata": {},
   "outputs": [],
   "source": []
  }
 ],
 "metadata": {
  "colab": {
   "name": "Workshop 8 Tasks on lists and tuples.ipynb",
   "provenance": []
  },
  "kernelspec": {
   "display_name": "Python 3",
   "language": "python",
   "name": "python3"
  },
  "language_info": {
   "codemirror_mode": {
    "name": "ipython",
    "version": 3
   },
   "file_extension": ".py",
   "mimetype": "text/x-python",
   "name": "python",
   "nbconvert_exporter": "python",
   "pygments_lexer": "ipython3",
   "version": "3.8.3"
  }
 },
 "nbformat": 4,
 "nbformat_minor": 1
}
